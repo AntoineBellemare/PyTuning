{
 "cells": [
  {
   "cell_type": "markdown",
   "metadata": {},
   "source": [
    "## Pythagorean Pentatonic Scales\n",
    "\n",
    "This is an example of using PyTuning in a Jupyter notebook environment. It is an exploration of\n",
    "possible pentatonic scales drawn from Pythagorean tuning.\n",
    "\n",
    "### Imports"
   ]
  },
  {
   "cell_type": "code",
   "execution_count": 1,
   "metadata": {
    "collapsed": false
   },
   "outputs": [],
   "source": [
    "from __future__ import division, print_function\n",
    "\n",
    "import matplotlib\n",
    "import matplotlib.pyplot as plt\n",
    "import seaborn as sns\n",
    "import numpy as np\n",
    "import sympy as sp\n",
    "\n",
    "from pytuning.scales.pythagorean import create_pythagorean_scale\n",
    "from pytuning.scales.edo import create_edo_scale\n",
    "from pytuning.utilities import ratio_to_cents, mask_scale, distinct_intervals, compare_two_scales, \\\n",
    "    note_number_to_freq\n",
    "from pytuning.metrics import sum_p_q_for_all_intervals\n",
    "from pytuning.tuning_tables import create_scala_tuning, create_timidity_tuning\n",
    "from pytuning.scale_creation import find_best_modes\n",
    "from pytuning.visualizations import consonance_matrix\n",
    "\n",
    "%matplotlib inline\n",
    "sns.set()\n",
    "plt.ioff()\n",
    "\n",
    "sp.init_printing(use_unicode=True)\n",
    "\n",
    "from IPython.display import display\n",
    "\n",
    "import pprint\n",
    "pp = pprint.PrettyPrinter(indent=2)"
   ]
  },
  {
   "cell_type": "markdown",
   "metadata": {},
   "source": [
    "The Pythagorean scale is created by walking up a circle of perfect fifths. However, one can also move *down* a fourth, and this creates some ambiguity to what the scale is. So, for example, if we just use up fifths:"
   ]
  },
  {
   "cell_type": "code",
   "execution_count": 2,
   "metadata": {
    "collapsed": false
   },
   "outputs": [
    {
     "data": {
      "image/png": "[encoded data removed]",
      "text/latex": [
       "$$\\left [ 1, \\quad \\frac{2187}{2048}, \\quad \\frac{9}{8}, \\quad \\frac{19683}{16384}, \\quad \\frac{81}{64}, \\quad \\frac{177147}{131072}, \\quad \\frac{729}{512}, \\quad \\frac{3}{2}, \\quad \\frac{6561}{4096}, \\quad \\frac{27}{16}, \\quad \\frac{59049}{32768}, \\quad \\frac{243}{128}, \\quad 2\\right ]$$"
      ],
      "text/plain": [
       "⎡   2187       19683  81  177147  729       6561  27  59049  243   ⎤\n",
       "⎢1, ────, 9/8, ─────, ──, ──────, ───, 3/2, ────, ──, ─────, ───, 2⎥\n",
       "⎣   2048       16384  64  131072  512       4096  16  32768  128   ⎦"
      ]
     },
     "execution_count": 2,
     "metadata": {},
     "output_type": "execute_result"
    }
   ],
   "source": [
    "scale = create_pythagorean_scale(number_down_fifths=0)\n",
    "scale"
   ]
  },
  {
   "cell_type": "markdown",
   "metadata": {},
   "source": [
    "On the other hand, if we just use *down* fifths:"
   ]
  },
  {
   "cell_type": "code",
   "execution_count": 3,
   "metadata": {
    "collapsed": false
   },
   "outputs": [
    {
     "data": {
      "image/png": "[encoded data removed]",
      "text/latex": [
       "$$\\left [ 1, \\quad \\frac{256}{243}, \\quad \\frac{65536}{59049}, \\quad \\frac{32}{27}, \\quad \\frac{8192}{6561}, \\quad \\frac{4}{3}, \\quad \\frac{1024}{729}, \\quad \\frac{262144}{177147}, \\quad \\frac{128}{81}, \\quad \\frac{32768}{19683}, \\quad \\frac{16}{9}, \\quad \\frac{4096}{2187}, \\quad 2\\right ]$$"
      ],
      "text/plain": [
       "⎡   256  65536  32  8192       1024  262144  128  32768        4096   ⎤\n",
       "⎢1, ───, ─────, ──, ────, 4/3, ────, ──────, ───, ─────, 16/9, ────, 2⎥\n",
       "⎣   243  59049  27  6561       729   177147   81  19683        2187   ⎦"
      ]
     },
     "execution_count": 3,
     "metadata": {},
     "output_type": "execute_result"
    }
   ],
   "source": [
    "scale = create_pythagorean_scale(number_down_fifths=11)\n",
    "scale"
   ]
  },
  {
   "cell_type": "markdown",
   "metadata": {},
   "source": [
    "(In the Wikipedia article the scale presented looks like):"
   ]
  },
  {
   "cell_type": "code",
   "execution_count": 4,
   "metadata": {
    "collapsed": false
   },
   "outputs": [
    {
     "data": {
      "image/png": "[encoded data removed]",
      "text/latex": [
       "$$\\left [ 1, \\quad \\frac{256}{243}, \\quad \\frac{9}{8}, \\quad \\frac{32}{27}, \\quad \\frac{81}{64}, \\quad \\frac{4}{3}, \\quad \\frac{1024}{729}, \\quad \\frac{729}{512}, \\quad \\frac{3}{2}, \\quad \\frac{128}{81}, \\quad \\frac{27}{16}, \\quad \\frac{16}{9}, \\quad \\frac{243}{128}, \\quad 2\\right ]$$"
      ],
      "text/plain": [
       "⎡   256       32  81       1024  729       128  27        243   ⎤\n",
       "⎢1, ───, 9/8, ──, ──, 4/3, ────, ───, 3/2, ───, ──, 16/9, ───, 2⎥\n",
       "⎣   243       27  64       729   512        81  16        128   ⎦"
      ]
     },
     "execution_count": 4,
     "metadata": {},
     "output_type": "execute_result"
    }
   ],
   "source": [
    "create_pythagorean_scale(scale_size=13, number_down_fifths=6)"
   ]
  },
  {
   "cell_type": "markdown",
   "metadata": {},
   "source": [
    "(with both the augmented fourth and diminished fifth, which is why we set scale_size to 13.)"
   ]
  },
  {
   "cell_type": "markdown",
   "metadata": {},
   "source": [
    "### The difference between up and down\n",
    "\n",
    "Let's take a look at the two extremes, and see how much they differ"
   ]
  },
  {
   "cell_type": "code",
   "execution_count": 5,
   "metadata": {
    "collapsed": false
   },
   "outputs": [
    {
     "data": {
      "image/png": "[encoded data removed]",
      "text/latex": [
       "$$\\left [ 1, \\quad \\frac{2187}{2048}, \\quad \\frac{9}{8}, \\quad \\frac{19683}{16384}, \\quad \\frac{81}{64}, \\quad \\frac{177147}{131072}, \\quad \\frac{729}{512}, \\quad \\frac{3}{2}, \\quad \\frac{6561}{4096}, \\quad \\frac{27}{16}, \\quad \\frac{59049}{32768}, \\quad \\frac{243}{128}, \\quad 2\\right ]$$"
      ],
      "text/plain": [
       "⎡   2187       19683  81  177147  729       6561  27  59049  243   ⎤\n",
       "⎢1, ────, 9/8, ─────, ──, ──────, ───, 3/2, ────, ──, ─────, ───, 2⎥\n",
       "⎣   2048       16384  64  131072  512       4096  16  32768  128   ⎦"
      ]
     },
     "metadata": {},
     "output_type": "display_data"
    },
    {
     "data": {
      "image/png": "[encoded data removed]",
      "text/latex": [
       "$$\\left [ 1, \\quad \\frac{256}{243}, \\quad \\frac{65536}{59049}, \\quad \\frac{32}{27}, \\quad \\frac{8192}{6561}, \\quad \\frac{4}{3}, \\quad \\frac{1024}{729}, \\quad \\frac{262144}{177147}, \\quad \\frac{128}{81}, \\quad \\frac{32768}{19683}, \\quad \\frac{16}{9}, \\quad \\frac{4096}{2187}, \\quad 2\\right ]$$"
      ],
      "text/plain": [
       "⎡   256  65536  32  8192       1024  262144  128  32768        4096   ⎤\n",
       "⎢1, ───, ─────, ──, ────, 4/3, ────, ──────, ───, ─────, 16/9, ────, 2⎥\n",
       "⎣   243  59049  27  6561       729   177147   81  19683        2187   ⎦"
      ]
     },
     "metadata": {},
     "output_type": "display_data"
    }
   ],
   "source": [
    "up_scale   = create_pythagorean_scale(number_down_fifths=0)\n",
    "down_scale = create_pythagorean_scale(number_down_fifths=11)\n",
    "display(up_scale)\n",
    "display(down_scale)"
   ]
  },
  {
   "cell_type": "markdown",
   "metadata": {},
   "source": [
    "Looking at the differences in the degrees, we see that all degrees differ from their siblings by the\n",
    "same amount:"
   ]
  },
  {
   "cell_type": "code",
   "execution_count": 6,
   "metadata": {
    "collapsed": false
   },
   "outputs": [
    {
     "name": "stdout",
     "output_type": "stream",
     "text": [
      "[ 0,\n",
      "  23.4600103846490,\n",
      "  23.4600103846490,\n",
      "  23.4600103846490,\n",
      "  23.4600103846490,\n",
      "  23.4600103846490,\n",
      "  23.4600103846490,\n",
      "  23.4600103846490,\n",
      "  23.4600103846490,\n",
      "  23.4600103846490,\n",
      "  23.4600103846490,\n",
      "  23.4600103846490,\n",
      "  0]\n"
     ]
    }
   ],
   "source": [
    "pp.pprint([ratio_to_cents(x) for x in np.array(up_scale) / np.array(down_scale)])"
   ]
  },
  {
   "cell_type": "markdown",
   "metadata": {},
   "source": [
    "Rationally, this is $\\frac{531441}{524288}$):"
   ]
  },
  {
   "cell_type": "code",
   "execution_count": 7,
   "metadata": {
    "collapsed": false
   },
   "outputs": [
    {
     "data": {
      "image/png": "[encoded data removed]",
      "text/latex": [
       "$$\\left [ 1, \\quad \\frac{531441}{524288}, \\quad \\frac{531441}{524288}, \\quad \\frac{531441}{524288}, \\quad \\frac{531441}{524288}, \\quad \\frac{531441}{524288}, \\quad \\frac{531441}{524288}, \\quad \\frac{531441}{524288}, \\quad \\frac{531441}{524288}, \\quad \\frac{531441}{524288}, \\quad \\frac{531441}{524288}, \\quad \\frac{531441}{524288}, \\quad 1\\right ]$$"
      ],
      "text/plain": [
       "⎡   531441  531441  531441  531441  531441  531441  531441  531441  531441  53\n",
       "⎢1, ──────, ──────, ──────, ──────, ──────, ──────, ──────, ──────, ──────, ──\n",
       "⎣   524288  524288  524288  524288  524288  524288  524288  524288  524288  52\n",
       "\n",
       "1441  531441   ⎤\n",
       "────, ──────, 1⎥\n",
       "4288  524288   ⎦"
      ]
     },
     "metadata": {},
     "output_type": "display_data"
    }
   ],
   "source": [
    "display([x for x in np.array(up_scale) / np.array(down_scale)])"
   ]
  },
  {
   "cell_type": "markdown",
   "metadata": {},
   "source": [
    "(or, as a ratio:)"
   ]
  },
  {
   "cell_type": "code",
   "execution_count": 8,
   "metadata": {
    "collapsed": false
   },
   "outputs": [
    {
     "data": {
      "image/png": "[encoded data removed]",
      "text/latex": [
       "$$1.01364326477051$$"
      ],
      "text/plain": [
       "1.01364326477051"
      ]
     },
     "execution_count": 8,
     "metadata": {},
     "output_type": "execute_result"
    }
   ],
   "source": [
    "sp.Rational(531441,524288).evalf()"
   ]
  },
  {
   "cell_type": "markdown",
   "metadata": {},
   "source": [
    "Looking at it this way, we have 12 different scales:"
   ]
  },
  {
   "cell_type": "code",
   "execution_count": 9,
   "metadata": {
    "collapsed": false
   },
   "outputs": [
    {
     "data": {
      "image/png": "[encoded data removed]",
      "text/latex": [
       "$$\\left [ 1, \\quad \\frac{2187}{2048}, \\quad \\frac{9}{8}, \\quad \\frac{19683}{16384}, \\quad \\frac{81}{64}, \\quad \\frac{177147}{131072}, \\quad \\frac{729}{512}, \\quad \\frac{3}{2}, \\quad \\frac{6561}{4096}, \\quad \\frac{27}{16}, \\quad \\frac{59049}{32768}, \\quad \\frac{243}{128}, \\quad 2\\right ]$$"
      ],
      "text/plain": [
       "⎡   2187       19683  81  177147  729       6561  27  59049  243   ⎤\n",
       "⎢1, ────, 9/8, ─────, ──, ──────, ───, 3/2, ────, ──, ─────, ───, 2⎥\n",
       "⎣   2048       16384  64  131072  512       4096  16  32768  128   ⎦"
      ]
     },
     "metadata": {},
     "output_type": "display_data"
    },
    {
     "data": {
      "image/png": "[encoded data removed]",
      "text/latex": [
       "$$\\left [ 1, \\quad \\frac{2187}{2048}, \\quad \\frac{9}{8}, \\quad \\frac{19683}{16384}, \\quad \\frac{81}{64}, \\quad \\frac{4}{3}, \\quad \\frac{729}{512}, \\quad \\frac{3}{2}, \\quad \\frac{6561}{4096}, \\quad \\frac{27}{16}, \\quad \\frac{59049}{32768}, \\quad \\frac{243}{128}, \\quad 2\\right ]$$"
      ],
      "text/plain": [
       "⎡   2187       19683  81       729       6561  27  59049  243   ⎤\n",
       "⎢1, ────, 9/8, ─────, ──, 4/3, ───, 3/2, ────, ──, ─────, ───, 2⎥\n",
       "⎣   2048       16384  64       512       4096  16  32768  128   ⎦"
      ]
     },
     "metadata": {},
     "output_type": "display_data"
    },
    {
     "data": {
      "image/png": "[encoded data removed]",
      "text/latex": [
       "$$\\left [ 1, \\quad \\frac{2187}{2048}, \\quad \\frac{9}{8}, \\quad \\frac{19683}{16384}, \\quad \\frac{81}{64}, \\quad \\frac{4}{3}, \\quad \\frac{729}{512}, \\quad \\frac{3}{2}, \\quad \\frac{6561}{4096}, \\quad \\frac{27}{16}, \\quad \\frac{16}{9}, \\quad \\frac{243}{128}, \\quad 2\\right ]$$"
      ],
      "text/plain": [
       "⎡   2187       19683  81       729       6561  27        243   ⎤\n",
       "⎢1, ────, 9/8, ─────, ──, 4/3, ───, 3/2, ────, ──, 16/9, ───, 2⎥\n",
       "⎣   2048       16384  64       512       4096  16        128   ⎦"
      ]
     },
     "metadata": {},
     "output_type": "display_data"
    },
    {
     "data": {
      "image/png": "[encoded data removed]",
      "text/latex": [
       "$$\\left [ 1, \\quad \\frac{2187}{2048}, \\quad \\frac{9}{8}, \\quad \\frac{32}{27}, \\quad \\frac{81}{64}, \\quad \\frac{4}{3}, \\quad \\frac{729}{512}, \\quad \\frac{3}{2}, \\quad \\frac{6561}{4096}, \\quad \\frac{27}{16}, \\quad \\frac{16}{9}, \\quad \\frac{243}{128}, \\quad 2\\right ]$$"
      ],
      "text/plain": [
       "⎡   2187       32  81       729       6561  27        243   ⎤\n",
       "⎢1, ────, 9/8, ──, ──, 4/3, ───, 3/2, ────, ──, 16/9, ───, 2⎥\n",
       "⎣   2048       27  64       512       4096  16        128   ⎦"
      ]
     },
     "metadata": {},
     "output_type": "display_data"
    },
    {
     "data": {
      "image/png": "[encoded data removed]",
      "text/latex": [
       "$$\\left [ 1, \\quad \\frac{2187}{2048}, \\quad \\frac{9}{8}, \\quad \\frac{32}{27}, \\quad \\frac{81}{64}, \\quad \\frac{4}{3}, \\quad \\frac{729}{512}, \\quad \\frac{3}{2}, \\quad \\frac{128}{81}, \\quad \\frac{27}{16}, \\quad \\frac{16}{9}, \\quad \\frac{243}{128}, \\quad 2\\right ]$$"
      ],
      "text/plain": [
       "⎡   2187       32  81       729       128  27        243   ⎤\n",
       "⎢1, ────, 9/8, ──, ──, 4/3, ───, 3/2, ───, ──, 16/9, ───, 2⎥\n",
       "⎣   2048       27  64       512        81  16        128   ⎦"
      ]
     },
     "metadata": {},
     "output_type": "display_data"
    },
    {
     "data": {
      "image/png": "[encoded data removed]",
      "text/latex": [
       "$$\\left [ 1, \\quad \\frac{256}{243}, \\quad \\frac{9}{8}, \\quad \\frac{32}{27}, \\quad \\frac{81}{64}, \\quad \\frac{4}{3}, \\quad \\frac{729}{512}, \\quad \\frac{3}{2}, \\quad \\frac{128}{81}, \\quad \\frac{27}{16}, \\quad \\frac{16}{9}, \\quad \\frac{243}{128}, \\quad 2\\right ]$$"
      ],
      "text/plain": [
       "⎡   256       32  81       729       128  27        243   ⎤\n",
       "⎢1, ───, 9/8, ──, ──, 4/3, ───, 3/2, ───, ──, 16/9, ───, 2⎥\n",
       "⎣   243       27  64       512        81  16        128   ⎦"
      ]
     },
     "metadata": {},
     "output_type": "display_data"
    },
    {
     "data": {
      "image/png": "[encoded data removed]",
      "text/latex": [
       "$$\\left [ 1, \\quad \\frac{256}{243}, \\quad \\frac{9}{8}, \\quad \\frac{32}{27}, \\quad \\frac{81}{64}, \\quad \\frac{4}{3}, \\quad \\frac{1024}{729}, \\quad \\frac{3}{2}, \\quad \\frac{128}{81}, \\quad \\frac{27}{16}, \\quad \\frac{16}{9}, \\quad \\frac{243}{128}, \\quad 2\\right ]$$"
      ],
      "text/plain": [
       "⎡   256       32  81       1024       128  27        243   ⎤\n",
       "⎢1, ───, 9/8, ──, ──, 4/3, ────, 3/2, ───, ──, 16/9, ───, 2⎥\n",
       "⎣   243       27  64       729         81  16        128   ⎦"
      ]
     },
     "metadata": {},
     "output_type": "display_data"
    },
    {
     "data": {
      "image/png": "[encoded data removed]",
      "text/latex": [
       "$$\\left [ 1, \\quad \\frac{256}{243}, \\quad \\frac{9}{8}, \\quad \\frac{32}{27}, \\quad \\frac{81}{64}, \\quad \\frac{4}{3}, \\quad \\frac{1024}{729}, \\quad \\frac{3}{2}, \\quad \\frac{128}{81}, \\quad \\frac{27}{16}, \\quad \\frac{16}{9}, \\quad \\frac{4096}{2187}, \\quad 2\\right ]$$"
      ],
      "text/plain": [
       "⎡   256       32  81       1024       128  27        4096   ⎤\n",
       "⎢1, ───, 9/8, ──, ──, 4/3, ────, 3/2, ───, ──, 16/9, ────, 2⎥\n",
       "⎣   243       27  64       729         81  16        2187   ⎦"
      ]
     },
     "metadata": {},
     "output_type": "display_data"
    },
    {
     "data": {
      "image/png": "[encoded data removed]",
      "text/latex": [
       "$$\\left [ 1, \\quad \\frac{256}{243}, \\quad \\frac{9}{8}, \\quad \\frac{32}{27}, \\quad \\frac{8192}{6561}, \\quad \\frac{4}{3}, \\quad \\frac{1024}{729}, \\quad \\frac{3}{2}, \\quad \\frac{128}{81}, \\quad \\frac{27}{16}, \\quad \\frac{16}{9}, \\quad \\frac{4096}{2187}, \\quad 2\\right ]$$"
      ],
      "text/plain": [
       "⎡   256       32  8192       1024       128  27        4096   ⎤\n",
       "⎢1, ───, 9/8, ──, ────, 4/3, ────, 3/2, ───, ──, 16/9, ────, 2⎥\n",
       "⎣   243       27  6561       729         81  16        2187   ⎦"
      ]
     },
     "metadata": {},
     "output_type": "display_data"
    },
    {
     "data": {
      "image/png": "[encoded data removed]",
      "text/latex": [
       "$$\\left [ 1, \\quad \\frac{256}{243}, \\quad \\frac{9}{8}, \\quad \\frac{32}{27}, \\quad \\frac{8192}{6561}, \\quad \\frac{4}{3}, \\quad \\frac{1024}{729}, \\quad \\frac{3}{2}, \\quad \\frac{128}{81}, \\quad \\frac{32768}{19683}, \\quad \\frac{16}{9}, \\quad \\frac{4096}{2187}, \\quad 2\\right ]$$"
      ],
      "text/plain": [
       "⎡   256       32  8192       1024       128  32768        4096   ⎤\n",
       "⎢1, ───, 9/8, ──, ────, 4/3, ────, 3/2, ───, ─────, 16/9, ────, 2⎥\n",
       "⎣   243       27  6561       729         81  19683        2187   ⎦"
      ]
     },
     "metadata": {},
     "output_type": "display_data"
    },
    {
     "data": {
      "image/png": "[encoded data removed]",
      "text/latex": [
       "$$\\left [ 1, \\quad \\frac{256}{243}, \\quad \\frac{65536}{59049}, \\quad \\frac{32}{27}, \\quad \\frac{8192}{6561}, \\quad \\frac{4}{3}, \\quad \\frac{1024}{729}, \\quad \\frac{3}{2}, \\quad \\frac{128}{81}, \\quad \\frac{32768}{19683}, \\quad \\frac{16}{9}, \\quad \\frac{4096}{2187}, \\quad 2\\right ]$$"
      ],
      "text/plain": [
       "⎡   256  65536  32  8192       1024       128  32768        4096   ⎤\n",
       "⎢1, ───, ─────, ──, ────, 4/3, ────, 3/2, ───, ─────, 16/9, ────, 2⎥\n",
       "⎣   243  59049  27  6561       729         81  19683        2187   ⎦"
      ]
     },
     "metadata": {},
     "output_type": "display_data"
    },
    {
     "data": {
      "image/png": "[encoded data removed]",
      "text/latex": [
       "$$\\left [ 1, \\quad \\frac{256}{243}, \\quad \\frac{65536}{59049}, \\quad \\frac{32}{27}, \\quad \\frac{8192}{6561}, \\quad \\frac{4}{3}, \\quad \\frac{1024}{729}, \\quad \\frac{262144}{177147}, \\quad \\frac{128}{81}, \\quad \\frac{32768}{19683}, \\quad \\frac{16}{9}, \\quad \\frac{4096}{2187}, \\quad 2\\right ]$$"
      ],
      "text/plain": [
       "⎡   256  65536  32  8192       1024  262144  128  32768        4096   ⎤\n",
       "⎢1, ───, ─────, ──, ────, 4/3, ────, ──────, ───, ─────, 16/9, ────, 2⎥\n",
       "⎣   243  59049  27  6561       729   177147   81  19683        2187   ⎦"
      ]
     },
     "metadata": {},
     "output_type": "display_data"
    }
   ],
   "source": [
    "for x in range(12):\n",
    "    display(create_pythagorean_scale(number_down_fifths=x))"
   ]
  },
  {
   "cell_type": "markdown",
   "metadata": {},
   "source": [
    "### Consonance\n",
    "\n",
    "Let's see if these scales vary in dissonance. For this we'll use the `sum_p_q_for_all_intervals` metric.\n",
    "\n",
    "To find out we'll create `dict`, with the key as the number of down-facing fifths, and the value\n",
    "the actual scale:"
   ]
  },
  {
   "cell_type": "code",
   "execution_count": 10,
   "metadata": {
    "collapsed": true
   },
   "outputs": [],
   "source": [
    "pythag_dict = {}\n",
    "for x in range(12):\n",
    "    pythag_dict[x] =  create_pythagorean_scale(number_down_fifths=x)"
   ]
  },
  {
   "cell_type": "code",
   "execution_count": 11,
   "metadata": {
    "collapsed": false,
    "scrolled": false
   },
   "outputs": [
    {
     "data": {
      "image/png": "[encoded data removed]",
      "text/latex": [
       "$$\\left \\{ 0 : \\left [ 1, \\quad \\frac{2187}{2048}, \\quad \\frac{9}{8}, \\quad \\frac{19683}{16384}, \\quad \\frac{81}{64}, \\quad \\frac{177147}{131072}, \\quad \\frac{729}{512}, \\quad \\frac{3}{2}, \\quad \\frac{6561}{4096}, \\quad \\frac{27}{16}, \\quad \\frac{59049}{32768}, \\quad \\frac{243}{128}, \\quad 2\\right ], \\quad 1 : \\left [ 1, \\quad \\frac{2187}{2048}, \\quad \\frac{9}{8}, \\quad \\frac{19683}{16384}, \\quad \\frac{81}{64}, \\quad \\frac{4}{3}, \\quad \\frac{729}{512}, \\quad \\frac{3}{2}, \\quad \\frac{6561}{4096}, \\quad \\frac{27}{16}, \\quad \\frac{59049}{32768}, \\quad \\frac{243}{128}, \\quad 2\\right ], \\quad 2 : \\left [ 1, \\quad \\frac{2187}{2048}, \\quad \\frac{9}{8}, \\quad \\frac{19683}{16384}, \\quad \\frac{81}{64}, \\quad \\frac{4}{3}, \\quad \\frac{729}{512}, \\quad \\frac{3}{2}, \\quad \\frac{6561}{4096}, \\quad \\frac{27}{16}, \\quad \\frac{16}{9}, \\quad \\frac{243}{128}, \\quad 2\\right ], \\quad 3 : \\left [ 1, \\quad \\frac{2187}{2048}, \\quad \\frac{9}{8}, \\quad \\frac{32}{27}, \\quad \\frac{81}{64}, \\quad \\frac{4}{3}, \\quad \\frac{729}{512}, \\quad \\frac{3}{2}, \\quad \\frac{6561}{4096}, \\quad \\frac{27}{16}, \\quad \\frac{16}{9}, \\quad \\frac{243}{128}, \\quad 2\\right ], \\quad 4 : \\left [ 1, \\quad \\frac{2187}{2048}, \\quad \\frac{9}{8}, \\quad \\frac{32}{27}, \\quad \\frac{81}{64}, \\quad \\frac{4}{3}, \\quad \\frac{729}{512}, \\quad \\frac{3}{2}, \\quad \\frac{128}{81}, \\quad \\frac{27}{16}, \\quad \\frac{16}{9}, \\quad \\frac{243}{128}, \\quad 2\\right ], \\quad 5 : \\left [ 1, \\quad \\frac{256}{243}, \\quad \\frac{9}{8}, \\quad \\frac{32}{27}, \\quad \\frac{81}{64}, \\quad \\frac{4}{3}, \\quad \\frac{729}{512}, \\quad \\frac{3}{2}, \\quad \\frac{128}{81}, \\quad \\frac{27}{16}, \\quad \\frac{16}{9}, \\quad \\frac{243}{128}, \\quad 2\\right ], \\quad 6 : \\left [ 1, \\quad \\frac{256}{243}, \\quad \\frac{9}{8}, \\quad \\frac{32}{27}, \\quad \\frac{81}{64}, \\quad \\frac{4}{3}, \\quad \\frac{1024}{729}, \\quad \\frac{3}{2}, \\quad \\frac{128}{81}, \\quad \\frac{27}{16}, \\quad \\frac{16}{9}, \\quad \\frac{243}{128}, \\quad 2\\right ], \\quad 7 : \\left [ 1, \\quad \\frac{256}{243}, \\quad \\frac{9}{8}, \\quad \\frac{32}{27}, \\quad \\frac{81}{64}, \\quad \\frac{4}{3}, \\quad \\frac{1024}{729}, \\quad \\frac{3}{2}, \\quad \\frac{128}{81}, \\quad \\frac{27}{16}, \\quad \\frac{16}{9}, \\quad \\frac{4096}{2187}, \\quad 2\\right ], \\quad 8 : \\left [ 1, \\quad \\frac{256}{243}, \\quad \\frac{9}{8}, \\quad \\frac{32}{27}, \\quad \\frac{8192}{6561}, \\quad \\frac{4}{3}, \\quad \\frac{1024}{729}, \\quad \\frac{3}{2}, \\quad \\frac{128}{81}, \\quad \\frac{27}{16}, \\quad \\frac{16}{9}, \\quad \\frac{4096}{2187}, \\quad 2\\right ], \\quad 9 : \\left [ 1, \\quad \\frac{256}{243}, \\quad \\frac{9}{8}, \\quad \\frac{32}{27}, \\quad \\frac{8192}{6561}, \\quad \\frac{4}{3}, \\quad \\frac{1024}{729}, \\quad \\frac{3}{2}, \\quad \\frac{128}{81}, \\quad \\frac{32768}{19683}, \\quad \\frac{16}{9}, \\quad \\frac{4096}{2187}, \\quad 2\\right ], \\quad 10 : \\left [ 1, \\quad \\frac{256}{243}, \\quad \\frac{65536}{59049}, \\quad \\frac{32}{27}, \\quad \\frac{8192}{6561}, \\quad \\frac{4}{3}, \\quad \\frac{1024}{729}, \\quad \\frac{3}{2}, \\quad \\frac{128}{81}, \\quad \\frac{32768}{19683}, \\quad \\frac{16}{9}, \\quad \\frac{4096}{2187}, \\quad 2\\right ], \\quad 11 : \\left [ 1, \\quad \\frac{256}{243}, \\quad \\frac{65536}{59049}, \\quad \\frac{32}{27}, \\quad \\frac{8192}{6561}, \\quad \\frac{4}{3}, \\quad \\frac{1024}{729}, \\quad \\frac{262144}{177147}, \\quad \\frac{128}{81}, \\quad \\frac{32768}{19683}, \\quad \\frac{16}{9}, \\quad \\frac{4096}{2187}, \\quad 2\\right ]\\right \\}$$"
      ],
      "text/plain": [
       "⎧   ⎡   2187       19683  81  177147  729       6561  27  59049  243   ⎤     ⎡\n",
       "⎨0: ⎢1, ────, 9/8, ─────, ──, ──────, ───, 3/2, ────, ──, ─────, ───, 2⎥, 1: ⎢\n",
       "⎩   ⎣   2048       16384  64  131072  512       4096  16  32768  128   ⎦     ⎣\n",
       "\n",
       "   2187       19683  81       729       6561  27  59049  243   ⎤     ⎡   2187 \n",
       "1, ────, 9/8, ─────, ──, 4/3, ───, 3/2, ────, ──, ─────, ───, 2⎥, 2: ⎢1, ────,\n",
       "   2048       16384  64       512       4096  16  32768  128   ⎦     ⎣   2048 \n",
       "\n",
       "      19683  81       729       6561  27        243   ⎤     ⎡   2187       32 \n",
       " 9/8, ─────, ──, 4/3, ───, 3/2, ────, ──, 16/9, ───, 2⎥, 3: ⎢1, ────, 9/8, ──,\n",
       "      16384  64       512       4096  16        128   ⎦     ⎣   2048       27 \n",
       "\n",
       " 81       729       6561  27        243   ⎤     ⎡   2187       32  81       72\n",
       " ──, 4/3, ───, 3/2, ────, ──, 16/9, ───, 2⎥, 4: ⎢1, ────, 9/8, ──, ──, 4/3, ──\n",
       " 64       512       4096  16        128   ⎦     ⎣   2048       27  64       51\n",
       "\n",
       "9       128  27        243   ⎤     ⎡   256       32  81       729       128  2\n",
       "─, 3/2, ───, ──, 16/9, ───, 2⎥, 5: ⎢1, ───, 9/8, ──, ──, 4/3, ───, 3/2, ───, ─\n",
       "2        81  16        128   ⎦     ⎣   243       27  64       512        81  1\n",
       "\n",
       "7        243   ⎤     ⎡   256       32  81       1024       128  27        243 \n",
       "─, 16/9, ───, 2⎥, 6: ⎢1, ───, 9/8, ──, ──, 4/3, ────, 3/2, ───, ──, 16/9, ───,\n",
       "6        128   ⎦     ⎣   243       27  64       729         81  16        128 \n",
       "\n",
       "  ⎤     ⎡   256       32  81       1024       128  27        4096   ⎤     ⎡   \n",
       " 2⎥, 7: ⎢1, ───, 9/8, ──, ──, 4/3, ────, 3/2, ───, ──, 16/9, ────, 2⎥, 8: ⎢1, \n",
       "  ⎦     ⎣   243       27  64       729         81  16        2187   ⎦     ⎣   \n",
       "\n",
       "256       32  8192       1024       128  27        4096   ⎤     ⎡   256       \n",
       "───, 9/8, ──, ────, 4/3, ────, 3/2, ───, ──, 16/9, ────, 2⎥, 9: ⎢1, ───, 9/8, \n",
       "243       27  6561       729         81  16        2187   ⎦     ⎣   243       \n",
       "\n",
       "32  8192       1024       128  32768        4096   ⎤      ⎡   256  65536  32  \n",
       "──, ────, 4/3, ────, 3/2, ───, ─────, 16/9, ────, 2⎥, 10: ⎢1, ───, ─────, ──, \n",
       "27  6561       729         81  19683        2187   ⎦      ⎣   243  59049  27  \n",
       "\n",
       "8192       1024       128  32768        4096   ⎤      ⎡   256  65536  32  8192\n",
       "────, 4/3, ────, 3/2, ───, ─────, 16/9, ────, 2⎥, 11: ⎢1, ───, ─────, ──, ────\n",
       "6561       729         81  19683        2187   ⎦      ⎣   243  59049  27  6561\n",
       "\n",
       "       1024  262144  128  32768        4096   ⎤⎫\n",
       ", 4/3, ────, ──────, ───, ─────, 16/9, ────, 2⎥⎬\n",
       "       729   177147   81  19683        2187   ⎦⎭"
      ]
     },
     "execution_count": 11,
     "metadata": {},
     "output_type": "execute_result"
    }
   ],
   "source": [
    "pythag_dict"
   ]
  },
  {
   "cell_type": "markdown",
   "metadata": {},
   "source": [
    "Now map the metric"
   ]
  },
  {
   "cell_type": "code",
   "execution_count": 12,
   "metadata": {
    "collapsed": false
   },
   "outputs": [
    {
     "name": "stdout",
     "output_type": "stream",
     "text": [
      "{ 0: 1092732,\n",
      "  1: 1092732,\n",
      "  2: 1092732,\n",
      "  3: 1092732,\n",
      "  4: 1092732,\n",
      "  5: 1092732,\n",
      "  6: 1092732,\n",
      "  7: 1092732,\n",
      "  8: 1092732,\n",
      "  9: 1092732,\n",
      "  10: 1092732,\n",
      "  11: 1092732}\n"
     ]
    }
   ],
   "source": [
    "for key in pythag_dict:\n",
    "    pythag_dict[key] = list(sum_p_q_for_all_intervals(pythag_dict[key]).values())[0]\n",
    "    \n",
    "pp.pprint(pythag_dict)"
   ]
  },
  {
   "cell_type": "markdown",
   "metadata": {},
   "source": [
    "They all have the same rating.\n",
    "\n",
    "But what happens if we just examine a single mode, say, one of the pentatonic scales? Let's take the Major\n",
    "Pentatonic:\n",
    "\n",
    "$$\n",
    "\\left[ 2, 2, 3, 2, 3 \\right]\n",
    "$$\n",
    "\n",
    "and see.\n",
    "\n",
    "Note that we hash the mode mask against all the possible Pythagorean scales, and because we're only taking\n",
    "selected notes, we can at times have repetitions. The following function strips out those repetitions\n",
    "(mode scales which are the same owing to the fact that there are no differences in the set of selected\n",
    "tones):"
   ]
  },
  {
   "cell_type": "code",
   "execution_count": 13,
   "metadata": {
    "collapsed": true
   },
   "outputs": [],
   "source": [
    "def calculate_metric_with_mask(mask):\n",
    "    all_scales = []\n",
    "    pythag_dict = {}\n",
    "    for x in range(12):\n",
    "        try_scale = mask_scale(create_pythagorean_scale(number_down_fifths=x), mask)\n",
    "        if try_scale not in all_scales:\n",
    "            pythag_dict[x] =  try_scale\n",
    "            all_scales.append(try_scale)\n",
    "\n",
    "    metric_dict = {}\n",
    "    for key in pythag_dict:\n",
    "        metric_dict[key] = list(sum_p_q_for_all_intervals(pythag_dict[key]).values())[0]\n",
    "\n",
    "    return pythag_dict, metric_dict"
   ]
  },
  {
   "cell_type": "code",
   "execution_count": 14,
   "metadata": {
    "collapsed": false
   },
   "outputs": [
    {
     "data": {
      "image/png": "[encoded data removed]",
      "text/latex": [
       "$$\\left \\{ 0 : \\left [ 1, \\quad \\frac{9}{8}, \\quad \\frac{81}{64}, \\quad \\frac{3}{2}, \\quad \\frac{27}{16}, \\quad 2\\right ], \\quad 8 : \\left [ 1, \\quad \\frac{9}{8}, \\quad \\frac{8192}{6561}, \\quad \\frac{3}{2}, \\quad \\frac{27}{16}, \\quad 2\\right ], \\quad 9 : \\left [ 1, \\quad \\frac{9}{8}, \\quad \\frac{8192}{6561}, \\quad \\frac{3}{2}, \\quad \\frac{32768}{19683}, \\quad 2\\right ], \\quad 10 : \\left [ 1, \\quad \\frac{65536}{59049}, \\quad \\frac{8192}{6561}, \\quad \\frac{3}{2}, \\quad \\frac{32768}{19683}, \\quad 2\\right ], \\quad 11 : \\left [ 1, \\quad \\frac{65536}{59049}, \\quad \\frac{8192}{6561}, \\quad \\frac{262144}{177147}, \\quad \\frac{32768}{19683}, \\quad 2\\right ]\\right \\}$$"
      ],
      "text/plain": [
       "⎧   ⎡        81       27   ⎤     ⎡        8192       27   ⎤     ⎡        8192 \n",
       "⎨0: ⎢1, 9/8, ──, 3/2, ──, 2⎥, 8: ⎢1, 9/8, ────, 3/2, ──, 2⎥, 9: ⎢1, 9/8, ────,\n",
       "⎩   ⎣        64       16   ⎦     ⎣        6561       16   ⎦     ⎣        6561 \n",
       "\n",
       "      32768   ⎤      ⎡   65536  8192       32768   ⎤      ⎡   65536  8192  262\n",
       " 3/2, ─────, 2⎥, 10: ⎢1, ─────, ────, 3/2, ─────, 2⎥, 11: ⎢1, ─────, ────, ───\n",
       "      19683   ⎦      ⎣   59049  6561       19683   ⎦      ⎣   59049  6561  177\n",
       "\n",
       "144  32768   ⎤⎫\n",
       "───, ─────, 2⎥⎬\n",
       "147  19683   ⎦⎭"
      ]
     },
     "metadata": {},
     "output_type": "display_data"
    },
    {
     "data": {
      "image/png": "[encoded data removed]",
      "text/latex": [
       "$$\\left \\{ 0 : 510, \\quad 8 : 1077996, \\quad 9 : 1077894, \\quad 10 : 1077894, \\quad 11 : 1077996\\right \\}$$"
      ],
      "text/plain": [
       "{0: 510, 8: 1077996, 9: 1077894, 10: 1077894, 11: 1077996}"
      ]
     },
     "metadata": {},
     "output_type": "display_data"
    }
   ],
   "source": [
    "major_pentatonic_mask = (0,2,4,7,9,12)\n",
    "scales, metrics = calculate_metric_with_mask(major_pentatonic_mask)\n",
    "display(scales)\n",
    "display(metrics)"
   ]
  },
  {
   "cell_type": "markdown",
   "metadata": {},
   "source": [
    "The metric is smallest for scale 0:"
   ]
  },
  {
   "cell_type": "code",
   "execution_count": 15,
   "metadata": {
    "collapsed": false
   },
   "outputs": [
    {
     "data": {
      "image/png": "[encoded data removed]",
      "text/latex": [
       "$$\\left [ 1, \\quad \\frac{9}{8}, \\quad \\frac{81}{64}, \\quad \\frac{3}{2}, \\quad \\frac{27}{16}, \\quad 2\\right ]$$"
      ],
      "text/plain": [
       "⎡        81       27   ⎤\n",
       "⎢1, 9/8, ──, 3/2, ──, 2⎥\n",
       "⎣        64       16   ⎦"
      ]
     },
     "execution_count": 15,
     "metadata": {},
     "output_type": "execute_result"
    }
   ],
   "source": [
    "scales[0]"
   ]
  },
  {
   "cell_type": "markdown",
   "metadata": {},
   "source": [
    "This is without doubt the one that the standard would produce:"
   ]
  },
  {
   "cell_type": "code",
   "execution_count": 16,
   "metadata": {
    "collapsed": false
   },
   "outputs": [
    {
     "data": {
      "image/png": "[encoded data removed]",
      "text/latex": [
       "$$\\left [ 1, \\quad \\frac{9}{8}, \\quad \\frac{81}{64}, \\quad \\frac{3}{2}, \\quad \\frac{27}{16}, \\quad 2\\right ]$$"
      ],
      "text/plain": [
       "⎡        81       27   ⎤\n",
       "⎢1, 9/8, ──, 3/2, ──, 2⎥\n",
       "⎣        64       16   ⎦"
      ]
     },
     "execution_count": 16,
     "metadata": {},
     "output_type": "execute_result"
    }
   ],
   "source": [
    "mask_scale(create_pythagorean_scale(), major_pentatonic_mask)"
   ]
  },
  {
   "cell_type": "markdown",
   "metadata": {},
   "source": [
    "Let's try the same thing with the Minor pentatonic scale:\n",
    "\n",
    "$$\n",
    "\\left[ 3, 2, 2, 3, 2 \\right]\n",
    "$$"
   ]
  },
  {
   "cell_type": "code",
   "execution_count": 17,
   "metadata": {
    "collapsed": false
   },
   "outputs": [
    {
     "data": {
      "image/png": "[encoded data removed]",
      "text/latex": [
       "$$\\left \\{ 0 : \\left [ 1, \\quad \\frac{19683}{16384}, \\quad \\frac{177147}{131072}, \\quad \\frac{3}{2}, \\quad \\frac{59049}{32768}, \\quad 2\\right ], \\quad 1 : \\left [ 1, \\quad \\frac{19683}{16384}, \\quad \\frac{4}{3}, \\quad \\frac{3}{2}, \\quad \\frac{59049}{32768}, \\quad 2\\right ], \\quad 2 : \\left [ 1, \\quad \\frac{19683}{16384}, \\quad \\frac{4}{3}, \\quad \\frac{3}{2}, \\quad \\frac{16}{9}, \\quad 2\\right ], \\quad 3 : \\left [ 1, \\quad \\frac{32}{27}, \\quad \\frac{4}{3}, \\quad \\frac{3}{2}, \\quad \\frac{16}{9}, \\quad 2\\right ], \\quad 11 : \\left [ 1, \\quad \\frac{32}{27}, \\quad \\frac{4}{3}, \\quad \\frac{262144}{177147}, \\quad \\frac{16}{9}, \\quad 2\\right ]\\right \\}$$"
      ],
      "text/plain": [
       "⎧   ⎡   19683  177147       59049   ⎤     ⎡   19683            59049   ⎤     ⎡\n",
       "⎨0: ⎢1, ─────, ──────, 3/2, ─────, 2⎥, 1: ⎢1, ─────, 4/3, 3/2, ─────, 2⎥, 2: ⎢\n",
       "⎩   ⎣   16384  131072       32768   ⎦     ⎣   16384            32768   ⎦     ⎣\n",
       "\n",
       "   19683                   ⎤     ⎡   32                   ⎤      ⎡   32       \n",
       "1, ─────, 4/3, 3/2, 16/9, 2⎥, 3: ⎢1, ──, 4/3, 3/2, 16/9, 2⎥, 11: ⎢1, ──, 4/3, \n",
       "   16384                   ⎦     ⎣   27                   ⎦      ⎣   27       \n",
       "\n",
       "262144         ⎤⎫\n",
       "──────, 16/9, 2⎥⎬\n",
       "177147         ⎦⎭"
      ]
     },
     "metadata": {},
     "output_type": "display_data"
    },
    {
     "data": {
      "image/png": "[encoded data removed]",
      "text/latex": [
       "$$\\left \\{ 0 : 1077894, \\quad 1 : 1077894, \\quad 2 : 1077996, \\quad 3 : 510, \\quad 11 : 1077996\\right \\}$$"
      ],
      "text/plain": [
       "{0: 1077894, 1: 1077894, 2: 1077996, 3: 510, 11: 1077996}"
      ]
     },
     "metadata": {},
     "output_type": "display_data"
    }
   ],
   "source": [
    "minor_pentatonic_mask = (0,3,5,7,10,12)\n",
    "scales, metrics       = calculate_metric_with_mask(minor_pentatonic_mask)\n",
    "display(scales)\n",
    "display(metrics)"
   ]
  },
  {
   "cell_type": "markdown",
   "metadata": {},
   "source": [
    "Minimized for 3:"
   ]
  },
  {
   "cell_type": "code",
   "execution_count": 18,
   "metadata": {
    "collapsed": false
   },
   "outputs": [
    {
     "data": {
      "image/png": "[encoded data removed]",
      "text/latex": [
       "$$\\left [ 1, \\quad \\frac{32}{27}, \\quad \\frac{4}{3}, \\quad \\frac{3}{2}, \\quad \\frac{16}{9}, \\quad 2\\right ]$$"
      ],
      "text/plain": [
       "⎡   32                   ⎤\n",
       "⎢1, ──, 4/3, 3/2, 16/9, 2⎥\n",
       "⎣   27                   ⎦"
      ]
     },
     "execution_count": 18,
     "metadata": {},
     "output_type": "execute_result"
    }
   ],
   "source": [
    "scales[3]"
   ]
  },
  {
   "cell_type": "markdown",
   "metadata": {},
   "source": [
    "Again, the standard tuning:"
   ]
  },
  {
   "cell_type": "code",
   "execution_count": 19,
   "metadata": {
    "collapsed": false
   },
   "outputs": [
    {
     "data": {
      "image/png": "[encoded data removed]",
      "text/latex": [
       "$$\\left [ 1, \\quad \\frac{32}{27}, \\quad \\frac{4}{3}, \\quad \\frac{3}{2}, \\quad \\frac{16}{9}, \\quad 2\\right ]$$"
      ],
      "text/plain": [
       "⎡   32                   ⎤\n",
       "⎢1, ──, 4/3, 3/2, 16/9, 2⎥\n",
       "⎣   27                   ⎦"
      ]
     },
     "execution_count": 19,
     "metadata": {},
     "output_type": "execute_result"
    }
   ],
   "source": [
    "mask_scale(create_pythagorean_scale(), minor_pentatonic_mask)"
   ]
  },
  {
   "cell_type": "markdown",
   "metadata": {},
   "source": [
    "Interestingly, both the minor and major scale have the same set of distinct intervals (which explains why the\n",
    "metric was the same value):"
   ]
  },
  {
   "cell_type": "code",
   "execution_count": 20,
   "metadata": {
    "collapsed": false
   },
   "outputs": [
    {
     "data": {
      "image/png": "[encoded data removed]",
      "text/latex": [
       "$$\\left [ \\frac{9}{8}, \\quad \\frac{32}{27}, \\quad \\frac{81}{64}, \\quad \\frac{4}{3}, \\quad \\frac{3}{2}, \\quad \\frac{128}{81}, \\quad \\frac{27}{16}, \\quad \\frac{16}{9}\\right ]$$"
      ],
      "text/plain": [
       "⎡     32  81            128  27      ⎤\n",
       "⎢9/8, ──, ──, 4/3, 3/2, ───, ──, 16/9⎥\n",
       "⎣     27  64             81  16      ⎦"
      ]
     },
     "metadata": {},
     "output_type": "display_data"
    },
    {
     "data": {
      "image/png": "[encoded data removed]",
      "text/latex": [
       "$$\\left [ \\frac{9}{8}, \\quad \\frac{32}{27}, \\quad \\frac{81}{64}, \\quad \\frac{4}{3}, \\quad \\frac{3}{2}, \\quad \\frac{128}{81}, \\quad \\frac{27}{16}, \\quad \\frac{16}{9}\\right ]$$"
      ],
      "text/plain": [
       "⎡     32  81            128  27      ⎤\n",
       "⎢9/8, ──, ──, 4/3, 3/2, ───, ──, 16/9⎥\n",
       "⎣     27  64             81  16      ⎦"
      ]
     },
     "metadata": {},
     "output_type": "display_data"
    }
   ],
   "source": [
    "minor_pent = mask_scale(create_pythagorean_scale(), minor_pentatonic_mask)\n",
    "major_pent = mask_scale(create_pythagorean_scale(), major_pentatonic_mask)\n",
    "display(sorted(distinct_intervals(minor_pent)))\n",
    "display(sorted(distinct_intervals(major_pent)))"
   ]
  },
  {
   "cell_type": "markdown",
   "metadata": {},
   "source": [
    "### Comparison with 12-EDO\n",
    "\n",
    "Let's compare these with the 12-TET equivalents"
   ]
  },
  {
   "cell_type": "code",
   "execution_count": 21,
   "metadata": {
    "collapsed": false
   },
   "outputs": [
    {
     "data": {
      "image/png": "[encoded data removed]",
      "text/latex": [
       "$$\\left [ 1, \\quad \\sqrt[6]{2}, \\quad \\sqrt[3]{2}, \\quad 2^{\\frac{7}{12}}, \\quad 2^{\\frac{3}{4}}, \\quad 2\\right ]$$"
      ],
      "text/plain": [
       "⎡   6 ___  3 ___   7/12   3/4   ⎤\n",
       "⎣1, ╲╱ 2 , ╲╱ 2 , 2    , 2   , 2⎦"
      ]
     },
     "metadata": {},
     "output_type": "display_data"
    },
    {
     "data": {
      "image/png": "[encoded data removed]",
      "text/latex": [
       "$$\\left [ 1, \\quad \\sqrt[4]{2}, \\quad 2^{\\frac{5}{12}}, \\quad 2^{\\frac{7}{12}}, \\quad 2^{\\frac{5}{6}}, \\quad 2\\right ]$$"
      ],
      "text/plain": [
       "⎡   4 ___   5/12   7/12   5/6   ⎤\n",
       "⎣1, ╲╱ 2 , 2    , 2    , 2   , 2⎦"
      ]
     },
     "metadata": {},
     "output_type": "display_data"
    }
   ],
   "source": [
    "major_edo = mask_scale(create_edo_scale(12), major_pentatonic_mask)\n",
    "minor_edo = mask_scale(create_edo_scale(12), minor_pentatonic_mask)\n",
    "display(major_edo)\n",
    "display(minor_edo)"
   ]
  },
  {
   "cell_type": "code",
   "execution_count": 22,
   "metadata": {
    "collapsed": false
   },
   "outputs": [
    {
     "name": "stdout",
     "output_type": "stream",
     "text": [
      "            Minor EDO     Minor Pythagorean\n",
      "     Cents       Freq      Cents       Freq  Delta(Cents)\n",
      " =========  =========  =========  =========  ============\n",
      "    0.0000   220.0000     0.0000   220.0000        0.0000\n",
      "  300.0000   261.6256   294.1350   260.7407        5.8650\n",
      "  500.0000   293.6648   498.0450   293.3333        1.9550\n",
      "  700.0000   329.6276   701.9550   330.0000       -1.9550\n",
      " 1000.0000   391.9954   996.0900   391.1111        3.9100\n",
      " 1200.0000   440.0000  1200.0000   440.0000        0.0000\n",
      "None\n",
      "\n",
      "            Major EDO     Major Pythagorean\n",
      "     Cents       Freq      Cents       Freq  Delta(Cents)\n",
      " =========  =========  =========  =========  ============\n",
      "    0.0000   220.0000     0.0000   220.0000        0.0000\n",
      "  200.0000   246.9417   203.9100   247.5000       -3.9100\n",
      "  400.0000   277.1826   407.8200   278.4375       -7.8200\n",
      "  700.0000   329.6276   701.9550   330.0000       -1.9550\n",
      "  900.0000   369.9944   905.8650   371.2500       -5.8650\n",
      " 1200.0000   440.0000  1200.0000   440.0000        0.0000\n",
      "None\n"
     ]
    }
   ],
   "source": [
    "print(compare_two_scales(minor_edo, minor_pent, title=['Minor EDO', 'Minor Pythagorean']))\n",
    "print()\n",
    "print(compare_two_scales(major_edo, major_pent, title=['Major EDO', 'Major Pythagorean']))"
   ]
  },
  {
   "cell_type": "markdown",
   "metadata": {},
   "source": [
    "### Which Pentatonic Scales Sounds the Best?\n",
    "\n",
    "Let's take the standard Pythagorean scale and perform a consonance search.\n",
    "\n",
    "We'll use `find_best_modes()` and select five tones. We'll also set `num_scales` to `None` so that\n",
    "all scales will be returned."
   ]
  },
  {
   "cell_type": "code",
   "execution_count": 23,
   "metadata": {
    "collapsed": false
   },
   "outputs": [],
   "source": [
    "standard_pythag = create_pythagorean_scale()\n",
    "mode_objects = find_best_modes(standard_pythag, 5, ['sum_p_q_for_all_intervals'], num_scales=None,\n",
    "                              metric_function=sum_p_q_for_all_intervals)"
   ]
  },
  {
   "cell_type": "code",
   "execution_count": 24,
   "metadata": {
    "collapsed": false
   },
   "outputs": [
    {
     "data": {
      "image/png": "[encoded data removed]",
      "text/latex": [
       "$$\\left [ 1, \\quad \\frac{9}{8}, \\quad \\frac{81}{64}, \\quad \\frac{3}{2}, \\quad \\frac{27}{16}, \\quad 2\\right ]$$"
      ],
      "text/plain": [
       "⎡        81       27   ⎤\n",
       "⎢1, 9/8, ──, 3/2, ──, 2⎥\n",
       "⎣        64       16   ⎦"
      ]
     },
     "metadata": {},
     "output_type": "display_data"
    }
   ],
   "source": [
    "display(mode_objects[0]['scale'])"
   ]
  },
  {
   "cell_type": "markdown",
   "metadata": {},
   "source": [
    ".... which looks a lot like the major pentatonic:"
   ]
  },
  {
   "cell_type": "code",
   "execution_count": 25,
   "metadata": {
    "collapsed": false
   },
   "outputs": [
    {
     "data": {
      "image/png": "[encoded data removed]",
      "text/latex": [
       "$$\\left [ 1, \\quad \\frac{9}{8}, \\quad \\frac{81}{64}, \\quad \\frac{3}{2}, \\quad \\frac{27}{16}, \\quad 2\\right ]$$"
      ],
      "text/plain": [
       "⎡        81       27   ⎤\n",
       "⎢1, 9/8, ──, 3/2, ──, 2⎥\n",
       "⎣        64       16   ⎦"
      ]
     },
     "metadata": {},
     "output_type": "display_data"
    }
   ],
   "source": [
    "display(major_pent)"
   ]
  },
  {
   "cell_type": "markdown",
   "metadata": {},
   "source": [
    "Let's look at the top few scales, to see if the minor is up there too...."
   ]
  },
  {
   "cell_type": "code",
   "execution_count": 26,
   "metadata": {
    "collapsed": false
   },
   "outputs": [
    {
     "data": {
      "image/png": "[encoded data removed]",
      "text/latex": [
       "$$\\left [ 1, \\quad \\frac{9}{8}, \\quad \\frac{81}{64}, \\quad \\frac{3}{2}, \\quad \\frac{27}{16}, \\quad 2\\right ]$$"
      ],
      "text/plain": [
       "⎡        81       27   ⎤\n",
       "⎢1, 9/8, ──, 3/2, ──, 2⎥\n",
       "⎣        64       16   ⎦"
      ]
     },
     "metadata": {},
     "output_type": "display_data"
    },
    {
     "data": {
      "image/png": "[encoded data removed]",
      "text/latex": [
       "$$\\left [ 1, \\quad \\frac{9}{8}, \\quad \\frac{4}{3}, \\quad \\frac{3}{2}, \\quad \\frac{27}{16}, \\quad 2\\right ]$$"
      ],
      "text/plain": [
       "⎡                  27   ⎤\n",
       "⎢1, 9/8, 4/3, 3/2, ──, 2⎥\n",
       "⎣                  16   ⎦"
      ]
     },
     "metadata": {},
     "output_type": "display_data"
    },
    {
     "data": {
      "image/png": "[encoded data removed]",
      "text/latex": [
       "$$\\left [ 1, \\quad \\frac{9}{8}, \\quad \\frac{4}{3}, \\quad \\frac{3}{2}, \\quad \\frac{16}{9}, \\quad 2\\right ]$$"
      ],
      "text/plain": [
       "[1, 9/8, 4/3, 3/2, 16/9, 2]"
      ]
     },
     "metadata": {},
     "output_type": "display_data"
    },
    {
     "data": {
      "image/png": "[encoded data removed]",
      "text/latex": [
       "$$\\left [ 1, \\quad \\frac{32}{27}, \\quad \\frac{4}{3}, \\quad \\frac{3}{2}, \\quad \\frac{16}{9}, \\quad 2\\right ]$$"
      ],
      "text/plain": [
       "⎡   32                   ⎤\n",
       "⎢1, ──, 4/3, 3/2, 16/9, 2⎥\n",
       "⎣   27                   ⎦"
      ]
     },
     "metadata": {},
     "output_type": "display_data"
    },
    {
     "data": {
      "image/png": "[encoded data removed]",
      "text/latex": [
       "$$\\left [ 1, \\quad \\frac{32}{27}, \\quad \\frac{4}{3}, \\quad \\frac{128}{81}, \\quad \\frac{16}{9}, \\quad 2\\right ]$$"
      ],
      "text/plain": [
       "⎡   32       128         ⎤\n",
       "⎢1, ──, 4/3, ───, 16/9, 2⎥\n",
       "⎣   27        81         ⎦"
      ]
     },
     "metadata": {},
     "output_type": "display_data"
    }
   ],
   "source": [
    "top_scales = [ x['scale'] for x in mode_objects][:5]\n",
    "for s in top_scales:\n",
    "    display(s)"
   ]
  },
  {
   "cell_type": "markdown",
   "metadata": {},
   "source": [
    "It's number 4 on the list:"
   ]
  },
  {
   "cell_type": "code",
   "execution_count": 27,
   "metadata": {
    "collapsed": false
   },
   "outputs": [
    {
     "data": {
      "image/png": "[encoded data removed]",
      "text/latex": [
       "$$\\left [ 1, \\quad \\frac{32}{27}, \\quad \\frac{4}{3}, \\quad \\frac{3}{2}, \\quad \\frac{16}{9}, \\quad 2\\right ]$$"
      ],
      "text/plain": [
       "⎡   32                   ⎤\n",
       "⎢1, ──, 4/3, 3/2, 16/9, 2⎥\n",
       "⎣   27                   ⎦"
      ]
     },
     "metadata": {},
     "output_type": "display_data"
    },
    {
     "data": {
      "image/png": "[encoded data removed]",
      "text/latex": [
       "$$\\left [ 1, \\quad \\frac{32}{27}, \\quad \\frac{4}{3}, \\quad \\frac{3}{2}, \\quad \\frac{16}{9}, \\quad 2\\right ]$$"
      ],
      "text/plain": [
       "⎡   32                   ⎤\n",
       "⎢1, ──, 4/3, 3/2, 16/9, 2⎥\n",
       "⎣   27                   ⎦"
      ]
     },
     "metadata": {},
     "output_type": "display_data"
    }
   ],
   "source": [
    "display(minor_pent)\n",
    "display(mode_objects[3]['scale'])"
   ]
  },
  {
   "cell_type": "markdown",
   "metadata": {},
   "source": [
    "But this is a bit misleading, as if we actually look at the scores, you'll see that the top five all have \n",
    "the same score:"
   ]
  },
  {
   "cell_type": "code",
   "execution_count": 28,
   "metadata": {
    "collapsed": false
   },
   "outputs": [
    {
     "data": {
      "image/png": "[encoded data removed]",
      "text/latex": [
       "$$\\left [ 510, \\quad 510, \\quad 510, \\quad 510, \\quad 510, \\quad 1380, \\quad 1380, \\quad 1380, \\quad 1380, \\quad 1380, \\quad 1380, \\quad 1380, \\quad 1380, \\quad 1380, \\quad 1380, \\quad 1380, \\quad 1380, \\quad 1380, \\quad 1380, \\quad 1380, \\quad 1380, \\quad 1380, \\quad 1380, \\quad 1380, \\quad 1380, \\quad 3504\\right ]$$"
      ],
      "text/plain": [
       "[510, 510, 510, 510, 510, 1380, 1380, 1380, 1380, 1380, 1380, 1380, 1380, 1380\n",
       ", 1380, 1380, 1380, 1380, 1380, 1380, 1380, 1380, 1380, 1380, 1380, 3504]"
      ]
     },
     "metadata": {},
     "output_type": "display_data"
    }
   ],
   "source": [
    "display([x['sum_p_q_for_all_intervals'] for x in mode_objects][:26])"
   ]
  },
  {
   "cell_type": "markdown",
   "metadata": {},
   "source": [
    "Thus by this metric the following scales are all equivalently \"good\":"
   ]
  },
  {
   "cell_type": "code",
   "execution_count": 29,
   "metadata": {
    "collapsed": false
   },
   "outputs": [
    {
     "data": {
      "image/png": "[encoded data removed]",
      "text/latex": [
       "$$\\left [ 1, \\quad \\frac{9}{8}, \\quad \\frac{81}{64}, \\quad \\frac{3}{2}, \\quad \\frac{27}{16}, \\quad 2\\right ]$$"
      ],
      "text/plain": [
       "⎡        81       27   ⎤\n",
       "⎢1, 9/8, ──, 3/2, ──, 2⎥\n",
       "⎣        64       16   ⎦"
      ]
     },
     "metadata": {},
     "output_type": "display_data"
    },
    {
     "data": {
      "image/png": "[encoded data removed]",
      "text/latex": [
       "$$\\left [ 1, \\quad \\frac{9}{8}, \\quad \\frac{4}{3}, \\quad \\frac{3}{2}, \\quad \\frac{27}{16}, \\quad 2\\right ]$$"
      ],
      "text/plain": [
       "⎡                  27   ⎤\n",
       "⎢1, 9/8, 4/3, 3/2, ──, 2⎥\n",
       "⎣                  16   ⎦"
      ]
     },
     "metadata": {},
     "output_type": "display_data"
    },
    {
     "data": {
      "image/png": "[encoded data removed]",
      "text/latex": [
       "$$\\left [ 1, \\quad \\frac{9}{8}, \\quad \\frac{4}{3}, \\quad \\frac{3}{2}, \\quad \\frac{16}{9}, \\quad 2\\right ]$$"
      ],
      "text/plain": [
       "[1, 9/8, 4/3, 3/2, 16/9, 2]"
      ]
     },
     "metadata": {},
     "output_type": "display_data"
    },
    {
     "data": {
      "image/png": "[encoded data removed]",
      "text/latex": [
       "$$\\left [ 1, \\quad \\frac{32}{27}, \\quad \\frac{4}{3}, \\quad \\frac{3}{2}, \\quad \\frac{16}{9}, \\quad 2\\right ]$$"
      ],
      "text/plain": [
       "⎡   32                   ⎤\n",
       "⎢1, ──, 4/3, 3/2, 16/9, 2⎥\n",
       "⎣   27                   ⎦"
      ]
     },
     "metadata": {},
     "output_type": "display_data"
    },
    {
     "data": {
      "image/png": "[encoded data removed]",
      "text/latex": [
       "$$\\left [ 1, \\quad \\frac{32}{27}, \\quad \\frac{4}{3}, \\quad \\frac{128}{81}, \\quad \\frac{16}{9}, \\quad 2\\right ]$$"
      ],
      "text/plain": [
       "⎡   32       128         ⎤\n",
       "⎢1, ──, 4/3, ───, 16/9, 2⎥\n",
       "⎣   27        81         ⎦"
      ]
     },
     "metadata": {},
     "output_type": "display_data"
    }
   ],
   "source": [
    "for x in range(5):\n",
    "    display(mode_objects[x]['scale'])"
   ]
  },
  {
   "cell_type": "markdown",
   "metadata": {},
   "source": [
    "Let's do a visualization of of one of the scale, the last one, for example:"
   ]
  },
  {
   "cell_type": "code",
   "execution_count": 30,
   "metadata": {
    "collapsed": false
   },
   "outputs": [
    {
     "data": {
      "image/png": "[encoded data removed]",
      "text/plain": [
       "<matplotlib.figure.Figure at 0x7f28e009ae80>"
      ]
     },
     "execution_count": 30,
     "metadata": {},
     "output_type": "execute_result"
    }
   ],
   "source": [
    "consonance_matrix(mode_objects[4]['scale'])"
   ]
  },
  {
   "cell_type": "markdown",
   "metadata": {},
   "source": [
    "Interestingly, the scale patterns (the steps between adjacent degrees) for all five of these scales are\n",
    "rotational permutations of one another:"
   ]
  },
  {
   "cell_type": "code",
   "execution_count": 31,
   "metadata": {
    "collapsed": false
   },
   "outputs": [
    {
     "data": {
      "image/png": "[encoded data removed]",
      "text/latex": [
       "$$\\left [ 2, \\quad 2, \\quad 3, \\quad 2, \\quad 3\\right ]$$"
      ],
      "text/plain": [
       "[2, 2, 3, 2, 3]"
      ]
     },
     "metadata": {},
     "output_type": "display_data"
    },
    {
     "data": {
      "image/png": "[encoded data removed]",
      "text/latex": [
       "$$\\left [ 2, \\quad 3, \\quad 2, \\quad 2, \\quad 3\\right ]$$"
      ],
      "text/plain": [
       "[2, 3, 2, 2, 3]"
      ]
     },
     "metadata": {},
     "output_type": "display_data"
    },
    {
     "data": {
      "image/png": "[encoded data removed]",
      "text/latex": [
       "$$\\left [ 2, \\quad 3, \\quad 2, \\quad 3, \\quad 2\\right ]$$"
      ],
      "text/plain": [
       "[2, 3, 2, 3, 2]"
      ]
     },
     "metadata": {},
     "output_type": "display_data"
    },
    {
     "data": {
      "image/png": "[encoded data removed]",
      "text/latex": [
       "$$\\left [ 3, \\quad 2, \\quad 2, \\quad 3, \\quad 2\\right ]$$"
      ],
      "text/plain": [
       "[3, 2, 2, 3, 2]"
      ]
     },
     "metadata": {},
     "output_type": "display_data"
    },
    {
     "data": {
      "image/png": "[encoded data removed]",
      "text/latex": [
       "$$\\left [ 3, \\quad 2, \\quad 3, \\quad 2, \\quad 2\\right ]$$"
      ],
      "text/plain": [
       "[3, 2, 3, 2, 2]"
      ]
     },
     "metadata": {},
     "output_type": "display_data"
    }
   ],
   "source": [
    "for x in range(5):\n",
    "    display(mode_objects[x]['steps'])"
   ]
  },
  {
   "cell_type": "markdown",
   "metadata": {},
   "source": [
    "But owing to the fact that the scale itself is not equally tempered, the scales themselves are *not*.\n",
    "\n",
    "If you wanted to open things up a bit, the next five have the same value too. (Note that including\n",
    "10 scales in the list is somewhat arbitrary: the first five have the same metric, but the next *20* are\n",
    "grouped together. Just taking 5 out of the 20 is arbitrary.)\n",
    "\n",
    "So, the top 10 scales -- the first five of which fall into a consonance group, the second of which fall into their own group:"
   ]
  },
  {
   "cell_type": "code",
   "execution_count": 32,
   "metadata": {
    "collapsed": false
   },
   "outputs": [
    {
     "data": {
      "image/png": "[encoded data removed]",
      "text/latex": [
       "$$\\left [ 1, \\quad \\frac{9}{8}, \\quad \\frac{81}{64}, \\quad \\frac{3}{2}, \\quad \\frac{27}{16}, \\quad 2\\right ]$$"
      ],
      "text/plain": [
       "⎡        81       27   ⎤\n",
       "⎢1, 9/8, ──, 3/2, ──, 2⎥\n",
       "⎣        64       16   ⎦"
      ]
     },
     "metadata": {},
     "output_type": "display_data"
    },
    {
     "data": {
      "image/png": "[encoded data removed]",
      "text/latex": [
       "$$\\left [ 1, \\quad \\frac{9}{8}, \\quad \\frac{4}{3}, \\quad \\frac{3}{2}, \\quad \\frac{27}{16}, \\quad 2\\right ]$$"
      ],
      "text/plain": [
       "⎡                  27   ⎤\n",
       "⎢1, 9/8, 4/3, 3/2, ──, 2⎥\n",
       "⎣                  16   ⎦"
      ]
     },
     "metadata": {},
     "output_type": "display_data"
    },
    {
     "data": {
      "image/png": "[encoded data removed]",
      "text/latex": [
       "$$\\left [ 1, \\quad \\frac{9}{8}, \\quad \\frac{4}{3}, \\quad \\frac{3}{2}, \\quad \\frac{16}{9}, \\quad 2\\right ]$$"
      ],
      "text/plain": [
       "[1, 9/8, 4/3, 3/2, 16/9, 2]"
      ]
     },
     "metadata": {},
     "output_type": "display_data"
    },
    {
     "data": {
      "image/png": "[encoded data removed]",
      "text/latex": [
       "$$\\left [ 1, \\quad \\frac{32}{27}, \\quad \\frac{4}{3}, \\quad \\frac{3}{2}, \\quad \\frac{16}{9}, \\quad 2\\right ]$$"
      ],
      "text/plain": [
       "⎡   32                   ⎤\n",
       "⎢1, ──, 4/3, 3/2, 16/9, 2⎥\n",
       "⎣   27                   ⎦"
      ]
     },
     "metadata": {},
     "output_type": "display_data"
    },
    {
     "data": {
      "image/png": "[encoded data removed]",
      "text/latex": [
       "$$\\left [ 1, \\quad \\frac{32}{27}, \\quad \\frac{4}{3}, \\quad \\frac{128}{81}, \\quad \\frac{16}{9}, \\quad 2\\right ]$$"
      ],
      "text/plain": [
       "⎡   32       128         ⎤\n",
       "⎢1, ──, 4/3, ───, 16/9, 2⎥\n",
       "⎣   27        81         ⎦"
      ]
     },
     "metadata": {},
     "output_type": "display_data"
    },
    {
     "data": {
      "image/png": "[encoded data removed]",
      "text/latex": [
       "$$\\left [ 1, \\quad \\frac{256}{243}, \\quad \\frac{32}{27}, \\quad \\frac{4}{3}, \\quad \\frac{128}{81}, \\quad 2\\right ]$$"
      ],
      "text/plain": [
       "⎡   256  32       128   ⎤\n",
       "⎢1, ───, ──, 4/3, ───, 2⎥\n",
       "⎣   243  27        81   ⎦"
      ]
     },
     "metadata": {},
     "output_type": "display_data"
    },
    {
     "data": {
      "image/png": "[encoded data removed]",
      "text/latex": [
       "$$\\left [ 1, \\quad \\frac{256}{243}, \\quad \\frac{32}{27}, \\quad \\frac{4}{3}, \\quad \\frac{16}{9}, \\quad 2\\right ]$$"
      ],
      "text/plain": [
       "⎡   256  32              ⎤\n",
       "⎢1, ───, ──, 4/3, 16/9, 2⎥\n",
       "⎣   243  27              ⎦"
      ]
     },
     "metadata": {},
     "output_type": "display_data"
    },
    {
     "data": {
      "image/png": "[encoded data removed]",
      "text/latex": [
       "$$\\left [ 1, \\quad \\frac{256}{243}, \\quad \\frac{32}{27}, \\quad \\frac{128}{81}, \\quad \\frac{16}{9}, \\quad 2\\right ]$$"
      ],
      "text/plain": [
       "⎡   256  32  128         ⎤\n",
       "⎢1, ───, ──, ───, 16/9, 2⎥\n",
       "⎣   243  27   81         ⎦"
      ]
     },
     "metadata": {},
     "output_type": "display_data"
    },
    {
     "data": {
      "image/png": "[encoded data removed]",
      "text/latex": [
       "$$\\left [ 1, \\quad \\frac{256}{243}, \\quad \\frac{4}{3}, \\quad \\frac{128}{81}, \\quad \\frac{16}{9}, \\quad 2\\right ]$$"
      ],
      "text/plain": [
       "⎡   256       128         ⎤\n",
       "⎢1, ───, 4/3, ───, 16/9, 2⎥\n",
       "⎣   243        81         ⎦"
      ]
     },
     "metadata": {},
     "output_type": "display_data"
    },
    {
     "data": {
      "image/png": "[encoded data removed]",
      "text/latex": [
       "$$\\left [ 1, \\quad \\frac{9}{8}, \\quad \\frac{32}{27}, \\quad \\frac{4}{3}, \\quad \\frac{3}{2}, \\quad 2\\right ]$$"
      ],
      "text/plain": [
       "⎡        32             ⎤\n",
       "⎢1, 9/8, ──, 4/3, 3/2, 2⎥\n",
       "⎣        27             ⎦"
      ]
     },
     "metadata": {},
     "output_type": "display_data"
    }
   ],
   "source": [
    "for x in range(10):\n",
    "    display(mode_objects[x]['scale'])"
   ]
  },
  {
   "cell_type": "markdown",
   "metadata": {},
   "source": [
    "### Tuning\n",
    "\n",
    "For working with these tunings, the following function will take an index into the `mode_objects` data\n",
    "structure and display several different tuning files for the resultant scale:"
   ]
  },
  {
   "cell_type": "code",
   "execution_count": 33,
   "metadata": {
    "collapsed": false
   },
   "outputs": [],
   "source": [
    "def create_tunings(index, mode_objects = mode_objects, reference_note = 69):\n",
    "    reference_frequency = note_number_to_freq(reference_note, create_edo_scale(12))\n",
    "    steps               = mode_objects[index]['steps']\n",
    "    scale               = mode_objects[index]['scale']\n",
    "    original_scale      = mode_objects[index]['original_scale']\n",
    "    mode_steps          = mode_objects[index]['steps']\n",
    "    mask                = mode_objects[index]['mask']\n",
    "    metric               = mode_objects[index]['sum_p_q_for_all_intervals']\n",
    "    em_spec = \"set scale \"  + str(tuple(mode_objects[10]['steps'])) + \" %d\" % reference_note\n",
    "    timidity = create_timidity_tuning(scale, reference_note)\n",
    "    \n",
    "    print(\"*******************\")\n",
    "    print(\"Summary Information\")\n",
    "    print(\"*******************\")\n",
    "    print(\"Reference Note:      %d\" % reference_note)\n",
    "    print(\"Reference Frequency: %f\" % reference_frequency)\n",
    "    print(\"Metric:              %d\" % metric)\n",
    "    print(\"Mode Steps:          %s\" % str(mode_steps))\n",
    "    print(\"Mode Mask:           %s\" % str(mask))\n",
    "    print(\"\")\n",
    "    print(\"********\")\n",
    "    print(\"Tunings\")\n",
    "    print(\"********\")\n",
    "    \n",
    "    print(\"\\n***Emergent Tuning***\\n\")\n",
    "    print(em_spec)\n",
    "    print(\"\\n***Scala Tuning***\\n\")\n",
    "    print(create_scala_tuning(original_scale, \"Pentatonic %d\" % index))\n",
    "    print(\"\\n***Timidity Tuning***\\n\")\n",
    "    print(timidity)\n",
    "    "
   ]
  },
  {
   "cell_type": "markdown",
   "metadata": {},
   "source": [
    "As an example, the 10th scale, referenced to C = 261.6 Hz:"
   ]
  },
  {
   "cell_type": "code",
   "execution_count": 34,
   "metadata": {
    "collapsed": false,
    "scrolled": false
   },
   "outputs": [
    {
     "name": "stdout",
     "output_type": "stream",
     "text": [
      "*******************\n",
      "Summary Information\n",
      "*******************\n",
      "Reference Note:      60\n",
      "Reference Frequency: 261.625565\n",
      "Metric:              1380\n",
      "Mode Steps:          [2, 1, 2, 2, 5]\n",
      "Mode Mask:           (0, 2, 3, 5, 7, 12)\n",
      "\n",
      "********\n",
      "Tunings\n",
      "********\n",
      "\n",
      "***Emergent Tuning***\n",
      "\n",
      "set scale (2, 1, 2, 5, 2) 60\n",
      "\n",
      "***Scala Tuning***\n",
      "\n",
      "! Scale produced by pytuning. For tuning yoshimi or zynaddsubfx,\n",
      "! only include the portion below the final '!'\n",
      "!\n",
      "Pentatonic 9\n",
      " 12\n",
      "!\n",
      "256/243\n",
      "9/8\n",
      "32/27\n",
      "81/64\n",
      "4/3\n",
      "1024/729\n",
      "3/2\n",
      "128/81\n",
      "27/16\n",
      "16/9\n",
      "243/128\n",
      "2/1\n",
      "\n",
      "***Timidity Tuning***\n",
      "\n",
      "# Timidity tuning table created by pytuning,\n",
      "# call timidity with the -Z option to enable.\n",
      "# Note reference: 60; Freq reference: 261.625565 Hz\n",
      "64\n",
      "72\n",
      "76\n",
      "85\n",
      "96\n",
      "128\n",
      "144\n",
      "151\n",
      "170\n",
      "192\n",
      "255\n",
      "287\n",
      "303\n",
      "341\n",
      "383\n",
      "511\n",
      "575\n",
      "606\n",
      "681\n",
      "766\n",
      "1022\n",
      "1150\n",
      "1211\n",
      "1363\n",
      "1533\n",
      "2044\n",
      "2299\n",
      "2422\n",
      "2725\n",
      "3066\n",
      "4088\n",
      "4599\n",
      "4845\n",
      "5451\n",
      "6132\n",
      "8176\n",
      "9198\n",
      "9690\n",
      "10901\n",
      "12264\n",
      "16352\n",
      "18396\n",
      "19380\n",
      "21802\n",
      "24527\n",
      "32703\n",
      "36791\n",
      "38759\n",
      "43604\n",
      "49055\n",
      "65406\n",
      "73582\n",
      "77519\n",
      "87209\n",
      "98110\n",
      "130813\n",
      "147164\n",
      "155037\n",
      "174417\n",
      "196219\n",
      "261626\n",
      "294329\n",
      "310075\n",
      "348834\n",
      "392438\n",
      "523251\n",
      "588658\n",
      "620149\n",
      "697668\n",
      "784877\n",
      "1046502\n",
      "1177315\n",
      "1240299\n",
      "1395336\n",
      "1569753\n",
      "2093005\n",
      "2354630\n",
      "2480598\n",
      "2790673\n",
      "3139507\n",
      "4186009\n",
      "4709260\n",
      "4961196\n",
      "5581345\n",
      "6279014\n",
      "8372018\n",
      "9418520\n",
      "9922392\n",
      "11162691\n",
      "12558027\n",
      "16744036\n",
      "18837041\n",
      "19844784\n",
      "22325382\n",
      "25116054\n",
      "33488072\n",
      "37674081\n",
      "39689567\n",
      "44650763\n",
      "50232109\n",
      "66976145\n",
      "75348163\n",
      "79379134\n",
      "89301526\n",
      "100464217\n",
      "133952289\n",
      "150696326\n",
      "158758269\n",
      "178603053\n",
      "200928434\n",
      "267904579\n",
      "301392651\n",
      "317516538\n",
      "357206105\n",
      "401856868\n",
      "535809158\n",
      "602785302\n",
      "635033076\n",
      "714412210\n",
      "803713737\n",
      "1071618315\n",
      "1205570605\n",
      "1270066152\n",
      "1428824421\n",
      "1607427473\n",
      "2143236631\n",
      "2411141210\n",
      "2540132303\n"
     ]
    }
   ],
   "source": [
    "create_tunings(9, reference_note=60)"
   ]
  }
 ],
 "metadata": {
  "anaconda-cloud": {},
  "kernelspec": {
   "display_name": "Python [conda env:python3]",
   "language": "python",
   "name": "conda-env-python3-py"
  },
  "language_info": {
   "codemirror_mode": {
    "name": "ipython",
    "version": 3
   },
   "file_extension": ".py",
   "mimetype": "text/x-python",
   "name": "python",
   "nbconvert_exporter": "python",
   "pygments_lexer": "ipython3",
   "version": "3.5.2"
  }
 },
 "nbformat": 4,
 "nbformat_minor": 1
}
